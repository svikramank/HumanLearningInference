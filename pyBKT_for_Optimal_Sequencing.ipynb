{
 "cells": [
  {
   "cell_type": "markdown",
   "metadata": {},
   "source": [
    "# Bayesian Knowledge Tracing for Optimal Sequences\n",
    "#### BKT for inferring human knowledge on a procedural task like programming"
   ]
  },
  {
   "cell_type": "code",
   "execution_count": 12,
   "metadata": {},
   "outputs": [],
   "source": [
    "import numpy as np\n",
    "import pandas as pd\n",
    "import math\n",
    "import itertools\n",
    "from collections import defaultdict \n",
    "import copy\n",
    "from pyBKT.generate import synthetic_data, random_model_uni\n",
    "from pyBKT.fit import EM_fit\n",
    "from copy import deepcopy\n",
    "import matplotlib.pyplot as plt"
   ]
  },
  {
   "cell_type": "markdown",
   "metadata": {},
   "source": [
    "### Importing the collected data\n",
    "Our data is collected in 3 phases:\n",
    "1. Pre-test (3 questions)\n",
    "2. Training (6 questions)\n",
    "3. Post-test (3 questions)"
   ]
  },
  {
   "cell_type": "code",
   "execution_count": 79,
   "metadata": {},
   "outputs": [],
   "source": [
    "# Learning sequences (performance of each student on training data)\n",
    "training_data = {\n",
    "'s1' : [1,0,1,1,1,0], # Blocked\n",
    "'s2' : [0,0,1,1,0,0], # Blocked\n",
    "'s3' : [0,0,1,0,1,1], # Blocked\n",
    "'s4' : [0,0,0,1,1,1], # Blocked\n",
    "'s5' : [0,1,1,1,1,1], # Blocked\n",
    "'s6' : [0,0,1,1,1,1], # Blocked\n",
    "'s7' : [1,0,1,1,1,1], # Blocked\n",
    "'s8' : [1,0,1,1,1,1], # Blocked\n",
    "'s9' : [1,0,1,0,0,1], # Blocked\n",
    "'s10' : [0,1,0,1,1,1], # Blocked\n",
    "'s11' : [1,0,0,1,1,1], # Blocked\n",
    "'s12' : [1,0,0,1,1,1], # Blocked\n",
    "    \n",
    "'s13' : [1,0,1,0,1,1], # Interleaved\n",
    "'s14' : [0,0,0,1,1,0], # Interleaved\n",
    "'s15' : [1,0,1,0,0,0], # Interleaved\n",
    "'s16' : [1,0,0,1,1,0], # Interleaved\n",
    "'s17' : [0,0,0,1,1,1], # Interleaved\n",
    "'s18' : [1,0,0,1,1,1], # Interleaved\n",
    "'s19' : [0,1,1,1,0,1], # Interleaved\n",
    "'s20' : [0,0,0,0,1,0], # Interleaved\n",
    "'s21' : [1,0,0,1,0,0], # Interleaved\n",
    "'s22' : [0,0,0,1,1,0], # Interleaved\n",
    "'s23' : [0,0,1,0,1,1] # Interleaved\n",
    "\n",
    "}\n",
    "\n",
    "sequences = {\n",
    "'s1' : ['A', 'A', 'B', 'B', 'C', 'C'], # Blocked\n",
    "'s2' : ['B', 'B', 'A', 'A', 'C', 'C'], # Blocked\n",
    "'s3' : ['C', 'C', 'B', 'B', 'A', 'A'], # Blocked\n",
    "'s4' : ['A', 'A', 'C', 'C', 'B', 'B'], # Blocked\n",
    "'s5' : ['C', 'C', 'A', 'A', 'B', 'B'], # Blocked\n",
    "'s6' : ['B', 'B', 'C', 'C', 'A', 'A'], # Blocked\n",
    "'s7' : ['A', 'A', 'B', 'B', 'C', 'C'], # Blocked\n",
    "'s8' : ['B', 'B', 'A', 'A', 'C', 'C'], # Blocked\n",
    "'s9' : ['C', 'C', 'B', 'B', 'A', 'A'], # Blocked\n",
    "'s10' : ['A', 'A', 'C', 'C', 'B', 'B'], # Blocked\n",
    "'s11' : ['C', 'C', 'A', 'A', 'B', 'B'], # Blocked\n",
    "'s12' : ['B', 'B', 'C', 'C', 'A', 'A'], # Blocked\n",
    "    \n",
    "'s13' : ['A', 'C', 'B', 'C', 'A', 'B'], # Interleaved\n",
    "'s14' : ['B', 'A', 'B', 'C', 'A', 'C'], # Interleaved\n",
    "'s15' : ['C', 'B', 'C', 'A', 'B', 'A'], # Interleaved\n",
    "'s16' : ['A', 'C', 'B', 'C', 'B', 'A'], # Interleaved\n",
    "'s17' : ['C', 'A', 'C', 'B', 'A', 'B'], # Interleaved\n",
    "'s18' : ['B', 'A', 'C', 'B', 'C', 'A'], # Interleaved\n",
    "'s19' : ['C', 'A', 'A', 'B', 'C', 'B'], # Interleaved\n",
    "'s20' : ['B', 'C', 'A', 'B', 'C', 'A'], # Interleaved\n",
    "'s21' : ['A', 'B', 'A', 'C', 'B', 'C'], # Interleaved\n",
    "'s22' : ['C', 'B', 'A', 'B', 'A', 'C'], # Interleaved\n",
    "'s23' : ['C', 'A', 'C', 'B', 'A', 'B'] # Interleaved\n",
    "}\n",
    "\n",
    "\n",
    "# Lookup for unigram/bigram sequences\n",
    "lookup = {'A':1 , 'B':2, 'C':3, 'AA':4, 'BB':5, 'CC':6, 'AB':7, 'BA':8, 'BC':9, 'CB':10,\n",
    " 'CA':11, 'AC':12}\n",
    "\n",
    "# Mapping for each question from lookup table (unigrams and bigrams)\n",
    "seq_lookup = [1, 4, 8, 5, 9, 6,\n",
    "              2, 5, 8, 4, 12, 6,\n",
    "              3, 6, 10, 5, 8, 4,\n",
    "              1, 4, 12, 6, 10, 5,\n",
    "              3, 6, 11, 4, 7, 5,\n",
    "              2, 5, 9, 6, 11, 4, \n",
    "              1, 4, 7, 5, 9, 6,\n",
    "              2, 5, 8, 4, 12, 6,\n",
    "              3, 6, 10, 5, 8, 4, \n",
    "              1, 4, 12, 6, 10, 5,\n",
    "              3, 6, 11, 4, 7, 5,\n",
    "              2, 5, 9, 6, 11, 4,\n",
    "              \n",
    "              1, 12, 10, 9, 11, 7,\n",
    "              2, 8, 7, 9, 11, 12, \n",
    "              3, 10, 9, 11, 7, 8,\n",
    "              1, 12, 10, 9, 10, 8,\n",
    "              3, 11, 12, 10, 8, 7,\n",
    "              2, 8, 12, 10, 9, 11, \n",
    "              3, 11, 4, 7, 9, 10,\n",
    "              2, 9, 11, 7, 9, 11, \n",
    "              1, 7, 8, 12, 10, 9,\n",
    "              3, 10, 8, 7, 8, 12,\n",
    "              3, 11, 12, 10, 8, 7\n",
    "              ]\n",
    "\n",
    "\n",
    "\n",
    "# Post-Test scores of each student\n",
    "test_data = {\n",
    "'s1' : 22,\n",
    "'s2' : 10,\n",
    "'s3' : 20,\n",
    "'s4' : 30,\n",
    "'s5' : 30,\n",
    "'s6' : 30,\n",
    "'s7' : 30,\n",
    "'s8' : 20,\n",
    "'s9' : 23.3,\n",
    "'s10' : 30,\n",
    "'s11' : 30,\n",
    "'s12' : 26,\n",
    "    \n",
    "'s13' : 24,\n",
    "'s14' : 10,\n",
    "'s15' : 20,\n",
    "'s16' : 19,\n",
    "'s17' : 20,\n",
    "'s18' : 30,\n",
    "'s19' : 30,\n",
    "'s20' : 22,\n",
    "'s21' : 10,\n",
    "'s22' : 10,\n",
    "'s23' : 15\n",
    "}\n",
    "\n",
    "\n",
    "# Pre-test scores for each student\n",
    "pre_test_data = {\n",
    "'s1' : 0,\n",
    "'s2' : 0,\n",
    "'s3' : 10,\n",
    "'s4' : 20,\n",
    "'s5' : 20,\n",
    "'s6' : 0,\n",
    "'s7' : 0,\n",
    "'s8' : 0,\n",
    "'s9' : 10,\n",
    "'s10' : 0,\n",
    "'s11' : 0,\n",
    "'s12' : 0,\n",
    "    \n",
    "'s13' : 0,\n",
    "'s14' : 5,\n",
    "'s15' : 0,\n",
    "'s16' : 0,\n",
    "'s17' : 20,\n",
    "'s18' : 0,\n",
    "'s19' : 20,\n",
    "'s20' : 0,\n",
    "'s21' : 0,\n",
    "'s22' : 0,\n",
    "'s23' : 0    \n",
    "}\n",
    "\n",
    "\n",
    "# empirical learning gain\n",
    "learning_gain = {}\n",
    "for k, v1, v2 in zip(list(pre_test_data.keys()), list(pre_test_data.values()), list(test_data.values())):\n",
    "    learning_gain.update({k:v2-v1})"
   ]
  },
  {
   "cell_type": "code",
   "execution_count": null,
   "metadata": {},
   "outputs": [],
   "source": []
  },
  {
   "cell_type": "markdown",
   "metadata": {},
   "source": [
    "## Parameter Estimation in BKT\n",
    "Here we are learning the parameters of the BKT Model using EM algorithm and then comparing it with the empirically obtained parameter values"
   ]
  },
  {
   "cell_type": "code",
   "execution_count": 85,
   "metadata": {},
   "outputs": [],
   "source": [
    "# parameters classes\n",
    "num_gs = 1 #number of guess/slip classes\n",
    "num_learns = 12 #number of learning rates\n",
    "\n",
    "# State the prior probabilities\n",
    "p_T = 0.30\n",
    "p_F = 0.00\n",
    "p_G = 0.10\n",
    "p_S = 0.30\n",
    "p_L0 = 0.15"
   ]
  },
  {
   "cell_type": "code",
   "execution_count": 86,
   "metadata": {},
   "outputs": [],
   "source": [
    "# Data conversion for parmater learning in BKT\n",
    "lst = sum(list(training_data.values()), [])\n",
    "lst_ = []\n",
    "for i in lst:\n",
    "    if i == 0:\n",
    "        lst_.append(1)\n",
    "    else:\n",
    "        lst_.append(2)"
   ]
  },
  {
   "cell_type": "code",
   "execution_count": 87,
   "metadata": {},
   "outputs": [],
   "source": [
    "#generate synthetic model and data.\n",
    "truemodel = {}\n",
    "\n",
    "truemodel[\"As\"] =  np.zeros((num_learns,2,2), dtype=np.float_)\n",
    "for i in range(num_learns):\n",
    "    truemodel[\"As\"][i] = np.transpose([[1-p_T, p_T], [p_F, 1-p_F]])"
   ]
  },
  {
   "cell_type": "code",
   "execution_count": 88,
   "metadata": {},
   "outputs": [],
   "source": [
    "truemodel[\"learns\"] = truemodel[\"As\"][:,1, 0,]\n",
    "truemodel[\"forgets\"] = truemodel[\"As\"][:,0, 1]\n",
    "\n",
    "truemodel[\"pi_0\"] = np.array([[1-p_L0], [p_L0]])\n",
    "truemodel[\"prior\"] = truemodel[\"pi_0\"][1][0]"
   ]
  },
  {
   "cell_type": "code",
   "execution_count": 89,
   "metadata": {},
   "outputs": [
    {
     "name": "stdout",
     "output_type": "stream",
     "text": [
      "generating data...\n"
     ]
    }
   ],
   "source": [
    "truemodel[\"guesses\"] = np.full(num_gs, p_G, dtype=np.float_)\n",
    "truemodel[\"slips\"] = np.full(num_gs, p_S, dtype=np.float_)\n",
    "#can optionally set learn class sequence - set randomly by synthetic_data if not included\n",
    "#truemodel[\"resources\"] = np.random.randint(1, high = num_resources, size = sum(observation_sequence_lengths))\n",
    "\n",
    "#data!\n",
    "print(\"generating data...\")\n",
    "\n",
    "#specifies 500 students with 100 observations for synthetic data\n",
    "# observation_sequence_lengths = np.full(500, 100, dtype=np.int) \n",
    "# data = synthetic_data.synthetic_data(truemodel, observation_sequence_lengths)\n",
    "data = {\n",
    "    'data':np.array(lst_).reshape((1,len(lst_))),\n",
    "    'starts':np.array(list(range(1, len(lst)+1, 6))),\n",
    "    'lengths':np.array(len(list(range(1, len(lst)+1, 6)))*[6]),\n",
    "    'resources':np.array(seq_lookup),\n",
    "    'resource_names':np.array(list(range(1,13)))\n",
    "}"
   ]
  },
  {
   "cell_type": "code",
   "execution_count": 90,
   "metadata": {},
   "outputs": [
    {
     "data": {
      "text/plain": [
       "{'data': array([[2, 1, 2, 2, 2, 1, 1, 1, 2, 2, 1, 1, 1, 1, 2, 1, 2, 2, 1, 1, 1, 2,\n",
       "         2, 2, 1, 2, 2, 2, 2, 2, 1, 1, 2, 2, 2, 2, 2, 1, 2, 2, 2, 2, 2, 1,\n",
       "         2, 2, 2, 2, 2, 1, 2, 1, 1, 2, 1, 2, 1, 2, 2, 2, 2, 1, 1, 2, 2, 2,\n",
       "         2, 1, 1, 2, 2, 2, 2, 1, 2, 1, 2, 2, 1, 1, 1, 2, 2, 1, 2, 1, 2, 1,\n",
       "         1, 1, 2, 1, 1, 2, 2, 1, 1, 1, 1, 2, 2, 2, 2, 1, 1, 2, 2, 2, 1, 2,\n",
       "         2, 2, 1, 2, 1, 1, 1, 1, 2, 1, 2, 1, 1, 2, 1, 1, 1, 1, 1, 2, 2, 1,\n",
       "         1, 1, 2, 1, 2, 2]]),\n",
       " 'starts': array([  1,   7,  13,  19,  25,  31,  37,  43,  49,  55,  61,  67,  73,\n",
       "         79,  85,  91,  97, 103, 109, 115, 121, 127, 133]),\n",
       " 'lengths': array([6, 6, 6, 6, 6, 6, 6, 6, 6, 6, 6, 6, 6, 6, 6, 6, 6, 6, 6, 6, 6, 6,\n",
       "        6]),\n",
       " 'resources': array([ 1,  4,  8,  5,  9,  6,  2,  5,  8,  4, 12,  6,  3,  6, 10,  5,  8,\n",
       "         4,  1,  4, 12,  6, 10,  5,  3,  6, 11,  4,  7,  5,  2,  5,  9,  6,\n",
       "        11,  4,  1,  4,  7,  5,  9,  6,  2,  5,  8,  4, 12,  6,  3,  6, 10,\n",
       "         5,  8,  4,  1,  4, 12,  6, 10,  5,  3,  6, 11,  4,  7,  5,  2,  5,\n",
       "         9,  6, 11,  4,  1, 12, 10,  9, 11,  7,  2,  8,  7,  9, 11, 12,  3,\n",
       "        10,  9, 11,  7,  8,  1, 12, 10,  9, 10,  8,  3, 11, 12, 10,  8,  7,\n",
       "         2,  8, 12, 10,  9, 11,  3, 11,  4,  7,  9, 10,  2,  9, 11,  7,  9,\n",
       "        11,  1,  7,  8, 12, 10,  9,  3, 10,  8,  7,  8, 12,  3, 11, 12, 10,\n",
       "         8,  7]),\n",
       " 'resource_names': array([ 1,  2,  3,  4,  5,  6,  7,  8,  9, 10, 11, 12])}"
      ]
     },
     "execution_count": 90,
     "metadata": {},
     "output_type": "execute_result"
    }
   ],
   "source": [
    "data"
   ]
  },
  {
   "cell_type": "code",
   "execution_count": 91,
   "metadata": {},
   "outputs": [
    {
     "name": "stdout",
     "output_type": "stream",
     "text": [
      "fitting! each dot is a new EM initialization\n"
     ]
    },
    {
     "name": "stderr",
     "output_type": "stream",
     "text": [
      "/Users/vikramanksingh/anaconda3/lib/python3.7/site-packages/pyBKT/fit/EM_fit.py:199: RuntimeWarning: invalid value encountered in true_divide\n",
      "  pair[:, 0] = (pair[:, 0] * gamma_t) / dotted\n",
      "/Users/vikramanksingh/anaconda3/lib/python3.7/site-packages/pyBKT/fit/EM_fit.py:199: RuntimeWarning: invalid value encountered in true_divide\n",
      "  pair[:, 0] = (pair[:, 0] * gamma_t) / dotted\n",
      "/Users/vikramanksingh/anaconda3/lib/python3.7/site-packages/pyBKT/fit/EM_fit.py:200: RuntimeWarning: invalid value encountered in true_divide\n",
      "  pair[:, 1] = (pair[:, 1] * gamma_t) / dotted\n",
      "/Users/vikramanksingh/anaconda3/lib/python3.7/site-packages/pyBKT/fit/EM_fit.py:199: RuntimeWarning: invalid value encountered in true_divide\n",
      "  pair[:, 0] = (pair[:, 0] * gamma_t) / dotted\n",
      "/Users/vikramanksingh/anaconda3/lib/python3.7/site-packages/pyBKT/fit/EM_fit.py:199: RuntimeWarning: invalid value encountered in true_divide\n",
      "  pair[:, 0] = (pair[:, 0] * gamma_t) / dotted\n",
      "/Users/vikramanksingh/anaconda3/lib/python3.7/site-packages/pyBKT/fit/EM_fit.py:200: RuntimeWarning: invalid value encountered in true_divide\n",
      "  pair[:, 1] = (pair[:, 1] * gamma_t) / dotted\n",
      "/Users/vikramanksingh/anaconda3/lib/python3.7/site-packages/pyBKT/fit/EM_fit.py:200: RuntimeWarning: invalid value encountered in true_divide\n",
      "  pair[:, 1] = (pair[:, 1] * gamma_t) / dotted\n",
      "/Users/vikramanksingh/anaconda3/lib/python3.7/site-packages/pyBKT/fit/EM_fit.py:200: RuntimeWarning: invalid value encountered in true_divide\n",
      "  pair[:, 1] = (pair[:, 1] * gamma_t) / dotted\n",
      "/Users/vikramanksingh/anaconda3/lib/python3.7/site-packages/pyBKT/fit/EM_fit.py:199: RuntimeWarning: invalid value encountered in true_divide\n",
      "  pair[:, 0] = (pair[:, 0] * gamma_t) / dotted\n",
      "/Users/vikramanksingh/anaconda3/lib/python3.7/site-packages/pyBKT/fit/EM_fit.py:199: RuntimeWarning: invalid value encountered in true_divide\n",
      "  pair[:, 0] = (pair[:, 0] * gamma_t) / dotted\n",
      "/Users/vikramanksingh/anaconda3/lib/python3.7/site-packages/pyBKT/fit/EM_fit.py:199: RuntimeWarning: invalid value encountered in true_divide\n",
      "  pair[:, 0] = (pair[:, 0] * gamma_t) / dotted\n",
      "/Users/vikramanksingh/anaconda3/lib/python3.7/site-packages/pyBKT/fit/EM_fit.py:199: RuntimeWarning: invalid value encountered in true_divide\n",
      "  pair[:, 0] = (pair[:, 0] * gamma_t) / dotted\n",
      "/Users/vikramanksingh/anaconda3/lib/python3.7/site-packages/pyBKT/fit/EM_fit.py:199: RuntimeWarning: invalid value encountered in true_divide\n",
      "  pair[:, 0] = (pair[:, 0] * gamma_t) / dotted\n",
      "/Users/vikramanksingh/anaconda3/lib/python3.7/site-packages/pyBKT/fit/EM_fit.py:200: RuntimeWarning: invalid value encountered in true_divide\n",
      "  pair[:, 1] = (pair[:, 1] * gamma_t) / dotted\n",
      "/Users/vikramanksingh/anaconda3/lib/python3.7/site-packages/pyBKT/fit/EM_fit.py:200: RuntimeWarning: invalid value encountered in true_divide\n",
      "  pair[:, 1] = (pair[:, 1] * gamma_t) / dotted\n",
      "/Users/vikramanksingh/anaconda3/lib/python3.7/site-packages/pyBKT/fit/EM_fit.py:200: RuntimeWarning: invalid value encountered in true_divide\n",
      "  pair[:, 1] = (pair[:, 1] * gamma_t) / dotted\n",
      "/Users/vikramanksingh/anaconda3/lib/python3.7/site-packages/pyBKT/fit/EM_fit.py:200: RuntimeWarning: invalid value encountered in true_divide\n",
      "  pair[:, 1] = (pair[:, 1] * gamma_t) / dotted\n",
      "/Users/vikramanksingh/anaconda3/lib/python3.7/site-packages/pyBKT/fit/EM_fit.py:200: RuntimeWarning: invalid value encountered in true_divide\n",
      "  pair[:, 1] = (pair[:, 1] * gamma_t) / dotted\n",
      "/Users/vikramanksingh/anaconda3/lib/python3.7/site-packages/pyBKT/fit/EM_fit.py:199: RuntimeWarning: invalid value encountered in true_divide\n",
      "  pair[:, 0] = (pair[:, 0] * gamma_t) / dotted\n",
      "/Users/vikramanksingh/anaconda3/lib/python3.7/site-packages/pyBKT/fit/EM_fit.py:199: RuntimeWarning: invalid value encountered in true_divide\n",
      "  pair[:, 0] = (pair[:, 0] * gamma_t) / dotted\n",
      "/Users/vikramanksingh/anaconda3/lib/python3.7/site-packages/pyBKT/fit/EM_fit.py:199: RuntimeWarning: invalid value encountered in true_divide\n",
      "  pair[:, 0] = (pair[:, 0] * gamma_t) / dotted\n",
      "/Users/vikramanksingh/anaconda3/lib/python3.7/site-packages/pyBKT/fit/EM_fit.py:199: RuntimeWarning: invalid value encountered in true_divide\n",
      "  pair[:, 0] = (pair[:, 0] * gamma_t) / dotted\n",
      "/Users/vikramanksingh/anaconda3/lib/python3.7/site-packages/pyBKT/fit/EM_fit.py:199: RuntimeWarning: invalid value encountered in true_divide\n",
      "  pair[:, 0] = (pair[:, 0] * gamma_t) / dotted\n",
      "/Users/vikramanksingh/anaconda3/lib/python3.7/site-packages/pyBKT/fit/EM_fit.py:200: RuntimeWarning: invalid value encountered in true_divide\n",
      "  pair[:, 1] = (pair[:, 1] * gamma_t) / dotted\n",
      "/Users/vikramanksingh/anaconda3/lib/python3.7/site-packages/pyBKT/fit/EM_fit.py:200: RuntimeWarning: invalid value encountered in true_divide\n",
      "  pair[:, 1] = (pair[:, 1] * gamma_t) / dotted\n",
      "/Users/vikramanksingh/anaconda3/lib/python3.7/site-packages/pyBKT/fit/EM_fit.py:200: RuntimeWarning: invalid value encountered in true_divide\n",
      "  pair[:, 1] = (pair[:, 1] * gamma_t) / dotted\n",
      "/Users/vikramanksingh/anaconda3/lib/python3.7/site-packages/pyBKT/fit/EM_fit.py:200: RuntimeWarning: invalid value encountered in true_divide\n",
      "  pair[:, 1] = (pair[:, 1] * gamma_t) / dotted\n",
      "/Users/vikramanksingh/anaconda3/lib/python3.7/site-packages/pyBKT/fit/EM_fit.py:200: RuntimeWarning: invalid value encountered in true_divide\n",
      "  pair[:, 1] = (pair[:, 1] * gamma_t) / dotted\n",
      "/Users/vikramanksingh/anaconda3/lib/python3.7/site-packages/pyBKT/fit/EM_fit.py:199: RuntimeWarning: invalid value encountered in true_divide\n",
      "  pair[:, 0] = (pair[:, 0] * gamma_t) / dotted\n",
      "/Users/vikramanksingh/anaconda3/lib/python3.7/site-packages/pyBKT/fit/EM_fit.py:199: RuntimeWarning: invalid value encountered in true_divide\n",
      "  pair[:, 0] = (pair[:, 0] * gamma_t) / dotted\n",
      "/Users/vikramanksingh/anaconda3/lib/python3.7/site-packages/pyBKT/fit/EM_fit.py:200: RuntimeWarning: invalid value encountered in true_divide\n",
      "  pair[:, 1] = (pair[:, 1] * gamma_t) / dotted\n",
      "/Users/vikramanksingh/anaconda3/lib/python3.7/site-packages/pyBKT/fit/EM_fit.py:199: RuntimeWarning: invalid value encountered in true_divide\n",
      "  pair[:, 0] = (pair[:, 0] * gamma_t) / dotted\n",
      "/Users/vikramanksingh/anaconda3/lib/python3.7/site-packages/pyBKT/fit/EM_fit.py:199: RuntimeWarning: invalid value encountered in true_divide\n",
      "  pair[:, 0] = (pair[:, 0] * gamma_t) / dotted\n",
      "/Users/vikramanksingh/anaconda3/lib/python3.7/site-packages/pyBKT/fit/EM_fit.py:200: RuntimeWarning: invalid value encountered in true_divide\n",
      "  pair[:, 1] = (pair[:, 1] * gamma_t) / dotted\n",
      "/Users/vikramanksingh/anaconda3/lib/python3.7/site-packages/pyBKT/fit/EM_fit.py:200: RuntimeWarning: invalid value encountered in true_divide\n",
      "  pair[:, 1] = (pair[:, 1] * gamma_t) / dotted\n",
      "/Users/vikramanksingh/anaconda3/lib/python3.7/site-packages/pyBKT/fit/EM_fit.py:200: RuntimeWarning: invalid value encountered in true_divide\n",
      "  pair[:, 1] = (pair[:, 1] * gamma_t) / dotted\n",
      "/Users/vikramanksingh/anaconda3/lib/python3.7/site-packages/pyBKT/fit/EM_fit.py:199: RuntimeWarning: invalid value encountered in true_divide\n",
      "  pair[:, 0] = (pair[:, 0] * gamma_t) / dotted\n",
      "/Users/vikramanksingh/anaconda3/lib/python3.7/site-packages/pyBKT/fit/EM_fit.py:199: RuntimeWarning: invalid value encountered in true_divide\n",
      "  pair[:, 0] = (pair[:, 0] * gamma_t) / dotted\n",
      "/Users/vikramanksingh/anaconda3/lib/python3.7/site-packages/pyBKT/fit/EM_fit.py:199: RuntimeWarning: invalid value encountered in true_divide\n",
      "  pair[:, 0] = (pair[:, 0] * gamma_t) / dotted\n",
      "/Users/vikramanksingh/anaconda3/lib/python3.7/site-packages/pyBKT/fit/EM_fit.py:199: RuntimeWarning: invalid value encountered in true_divide\n",
      "  pair[:, 0] = (pair[:, 0] * gamma_t) / dotted\n",
      "/Users/vikramanksingh/anaconda3/lib/python3.7/site-packages/pyBKT/fit/EM_fit.py:200: RuntimeWarning: invalid value encountered in true_divide\n",
      "  pair[:, 1] = (pair[:, 1] * gamma_t) / dotted\n",
      "/Users/vikramanksingh/anaconda3/lib/python3.7/site-packages/pyBKT/fit/EM_fit.py:200: RuntimeWarning: invalid value encountered in true_divide\n",
      "  pair[:, 1] = (pair[:, 1] * gamma_t) / dotted\n",
      "/Users/vikramanksingh/anaconda3/lib/python3.7/site-packages/pyBKT/fit/EM_fit.py:200: RuntimeWarning: invalid value encountered in true_divide\n",
      "  pair[:, 1] = (pair[:, 1] * gamma_t) / dotted\n",
      "/Users/vikramanksingh/anaconda3/lib/python3.7/site-packages/pyBKT/fit/EM_fit.py:200: RuntimeWarning: invalid value encountered in true_divide\n",
      "  pair[:, 1] = (pair[:, 1] * gamma_t) / dotted\n"
     ]
    },
    {
     "name": "stderr",
     "output_type": "stream",
     "text": [
      "/Users/vikramanksingh/anaconda3/lib/python3.7/site-packages/pyBKT/fit/EM_fit.py:199: RuntimeWarning: invalid value encountered in true_divide\n",
      "  pair[:, 0] = (pair[:, 0] * gamma_t) / dotted\n",
      "/Users/vikramanksingh/anaconda3/lib/python3.7/site-packages/pyBKT/fit/EM_fit.py:199: RuntimeWarning: invalid value encountered in true_divide\n",
      "  pair[:, 0] = (pair[:, 0] * gamma_t) / dotted\n",
      "/Users/vikramanksingh/anaconda3/lib/python3.7/site-packages/pyBKT/fit/EM_fit.py:199: RuntimeWarning: invalid value encountered in true_divide\n",
      "  pair[:, 0] = (pair[:, 0] * gamma_t) / dotted\n",
      "/Users/vikramanksingh/anaconda3/lib/python3.7/site-packages/pyBKT/fit/EM_fit.py:199: RuntimeWarning: invalid value encountered in true_divide\n",
      "  pair[:, 0] = (pair[:, 0] * gamma_t) / dotted\n",
      "/Users/vikramanksingh/anaconda3/lib/python3.7/site-packages/pyBKT/fit/EM_fit.py:200: RuntimeWarning: invalid value encountered in true_divide\n",
      "  pair[:, 1] = (pair[:, 1] * gamma_t) / dotted\n",
      "/Users/vikramanksingh/anaconda3/lib/python3.7/site-packages/pyBKT/fit/EM_fit.py:200: RuntimeWarning: invalid value encountered in true_divide\n",
      "  pair[:, 1] = (pair[:, 1] * gamma_t) / dotted\n",
      "/Users/vikramanksingh/anaconda3/lib/python3.7/site-packages/pyBKT/fit/EM_fit.py:200: RuntimeWarning: invalid value encountered in true_divide\n",
      "  pair[:, 1] = (pair[:, 1] * gamma_t) / dotted\n",
      "/Users/vikramanksingh/anaconda3/lib/python3.7/site-packages/pyBKT/fit/EM_fit.py:200: RuntimeWarning: invalid value encountered in true_divide\n",
      "  pair[:, 1] = (pair[:, 1] * gamma_t) / dotted\n",
      "/Users/vikramanksingh/anaconda3/lib/python3.7/site-packages/pyBKT/fit/EM_fit.py:199: RuntimeWarning: invalid value encountered in true_divide\n",
      "  pair[:, 0] = (pair[:, 0] * gamma_t) / dotted\n",
      "/Users/vikramanksingh/anaconda3/lib/python3.7/site-packages/pyBKT/fit/EM_fit.py:199: RuntimeWarning: invalid value encountered in true_divide\n",
      "  pair[:, 0] = (pair[:, 0] * gamma_t) / dotted\n",
      "/Users/vikramanksingh/anaconda3/lib/python3.7/site-packages/pyBKT/fit/EM_fit.py:199: RuntimeWarning: invalid value encountered in true_divide\n",
      "  pair[:, 0] = (pair[:, 0] * gamma_t) / dotted\n",
      "/Users/vikramanksingh/anaconda3/lib/python3.7/site-packages/pyBKT/fit/EM_fit.py:199: RuntimeWarning: invalid value encountered in true_divide\n",
      "  pair[:, 0] = (pair[:, 0] * gamma_t) / dotted\n",
      "/Users/vikramanksingh/anaconda3/lib/python3.7/site-packages/pyBKT/fit/EM_fit.py:199: RuntimeWarning: invalid value encountered in true_divide\n",
      "  pair[:, 0] = (pair[:, 0] * gamma_t) / dotted\n",
      "/Users/vikramanksingh/anaconda3/lib/python3.7/site-packages/pyBKT/fit/EM_fit.py:200: RuntimeWarning: invalid value encountered in true_divide\n",
      "  pair[:, 1] = (pair[:, 1] * gamma_t) / dotted\n",
      "/Users/vikramanksingh/anaconda3/lib/python3.7/site-packages/pyBKT/fit/EM_fit.py:199: RuntimeWarning: invalid value encountered in true_divide\n",
      "  pair[:, 0] = (pair[:, 0] * gamma_t) / dotted\n",
      "/Users/vikramanksingh/anaconda3/lib/python3.7/site-packages/pyBKT/fit/EM_fit.py:200: RuntimeWarning: invalid value encountered in true_divide\n",
      "  pair[:, 1] = (pair[:, 1] * gamma_t) / dotted\n",
      "/Users/vikramanksingh/anaconda3/lib/python3.7/site-packages/pyBKT/fit/EM_fit.py:199: RuntimeWarning: invalid value encountered in true_divide\n",
      "  pair[:, 0] = (pair[:, 0] * gamma_t) / dotted\n",
      "/Users/vikramanksingh/anaconda3/lib/python3.7/site-packages/pyBKT/fit/EM_fit.py:199: RuntimeWarning: invalid value encountered in true_divide\n",
      "  pair[:, 0] = (pair[:, 0] * gamma_t) / dotted\n",
      "/Users/vikramanksingh/anaconda3/lib/python3.7/site-packages/pyBKT/fit/EM_fit.py:200: RuntimeWarning: invalid value encountered in true_divide\n",
      "  pair[:, 1] = (pair[:, 1] * gamma_t) / dotted\n",
      "/Users/vikramanksingh/anaconda3/lib/python3.7/site-packages/pyBKT/fit/EM_fit.py:200: RuntimeWarning: invalid value encountered in true_divide\n",
      "  pair[:, 1] = (pair[:, 1] * gamma_t) / dotted\n",
      "/Users/vikramanksingh/anaconda3/lib/python3.7/site-packages/pyBKT/fit/EM_fit.py:200: RuntimeWarning: invalid value encountered in true_divide\n",
      "  pair[:, 1] = (pair[:, 1] * gamma_t) / dotted\n",
      "/Users/vikramanksingh/anaconda3/lib/python3.7/site-packages/pyBKT/fit/EM_fit.py:200: RuntimeWarning: invalid value encountered in true_divide\n",
      "  pair[:, 1] = (pair[:, 1] * gamma_t) / dotted\n",
      "/Users/vikramanksingh/anaconda3/lib/python3.7/site-packages/pyBKT/fit/EM_fit.py:200: RuntimeWarning: invalid value encountered in true_divide\n",
      "  pair[:, 1] = (pair[:, 1] * gamma_t) / dotted\n",
      "/Users/vikramanksingh/anaconda3/lib/python3.7/site-packages/pyBKT/fit/EM_fit.py:200: RuntimeWarning: invalid value encountered in true_divide\n",
      "  pair[:, 1] = (pair[:, 1] * gamma_t) / dotted\n",
      "/Users/vikramanksingh/anaconda3/lib/python3.7/site-packages/pyBKT/fit/EM_fit.py:199: RuntimeWarning: invalid value encountered in true_divide\n",
      "  pair[:, 0] = (pair[:, 0] * gamma_t) / dotted\n",
      "/Users/vikramanksingh/anaconda3/lib/python3.7/site-packages/pyBKT/fit/EM_fit.py:199: RuntimeWarning: invalid value encountered in true_divide\n",
      "  pair[:, 0] = (pair[:, 0] * gamma_t) / dotted\n",
      "/Users/vikramanksingh/anaconda3/lib/python3.7/site-packages/pyBKT/fit/EM_fit.py:199: RuntimeWarning: invalid value encountered in true_divide\n",
      "  pair[:, 0] = (pair[:, 0] * gamma_t) / dotted\n",
      "/Users/vikramanksingh/anaconda3/lib/python3.7/site-packages/pyBKT/fit/EM_fit.py:199: RuntimeWarning: invalid value encountered in true_divide\n",
      "  pair[:, 0] = (pair[:, 0] * gamma_t) / dotted\n",
      "/Users/vikramanksingh/anaconda3/lib/python3.7/site-packages/pyBKT/fit/EM_fit.py:199: RuntimeWarning: invalid value encountered in true_divide\n",
      "  pair[:, 0] = (pair[:, 0] * gamma_t) / dotted\n",
      "/Users/vikramanksingh/anaconda3/lib/python3.7/site-packages/pyBKT/fit/EM_fit.py:199: RuntimeWarning: invalid value encountered in true_divide\n",
      "  pair[:, 0] = (pair[:, 0] * gamma_t) / dotted\n",
      "/Users/vikramanksingh/anaconda3/lib/python3.7/site-packages/pyBKT/fit/EM_fit.py:200: RuntimeWarning: invalid value encountered in true_divide\n",
      "  pair[:, 1] = (pair[:, 1] * gamma_t) / dotted\n",
      "/Users/vikramanksingh/anaconda3/lib/python3.7/site-packages/pyBKT/fit/EM_fit.py:200: RuntimeWarning: invalid value encountered in true_divide\n",
      "  pair[:, 1] = (pair[:, 1] * gamma_t) / dotted\n",
      "/Users/vikramanksingh/anaconda3/lib/python3.7/site-packages/pyBKT/fit/EM_fit.py:200: RuntimeWarning: invalid value encountered in true_divide\n",
      "  pair[:, 1] = (pair[:, 1] * gamma_t) / dotted\n",
      "/Users/vikramanksingh/anaconda3/lib/python3.7/site-packages/pyBKT/fit/EM_fit.py:200: RuntimeWarning: invalid value encountered in true_divide\n",
      "  pair[:, 1] = (pair[:, 1] * gamma_t) / dotted\n",
      "/Users/vikramanksingh/anaconda3/lib/python3.7/site-packages/pyBKT/fit/EM_fit.py:200: RuntimeWarning: invalid value encountered in true_divide\n",
      "  pair[:, 1] = (pair[:, 1] * gamma_t) / dotted\n",
      "/Users/vikramanksingh/anaconda3/lib/python3.7/site-packages/pyBKT/fit/EM_fit.py:200: RuntimeWarning: invalid value encountered in true_divide\n",
      "  pair[:, 1] = (pair[:, 1] * gamma_t) / dotted\n",
      "/Users/vikramanksingh/anaconda3/lib/python3.7/site-packages/pyBKT/fit/EM_fit.py:199: RuntimeWarning: invalid value encountered in true_divide\n",
      "  pair[:, 0] = (pair[:, 0] * gamma_t) / dotted\n",
      "/Users/vikramanksingh/anaconda3/lib/python3.7/site-packages/pyBKT/fit/EM_fit.py:199: RuntimeWarning: invalid value encountered in true_divide\n",
      "  pair[:, 0] = (pair[:, 0] * gamma_t) / dotted\n",
      "/Users/vikramanksingh/anaconda3/lib/python3.7/site-packages/pyBKT/fit/EM_fit.py:200: RuntimeWarning: invalid value encountered in true_divide\n",
      "  pair[:, 1] = (pair[:, 1] * gamma_t) / dotted\n",
      "/Users/vikramanksingh/anaconda3/lib/python3.7/site-packages/pyBKT/fit/EM_fit.py:200: RuntimeWarning: invalid value encountered in true_divide\n",
      "  pair[:, 1] = (pair[:, 1] * gamma_t) / dotted\n"
     ]
    }
   ],
   "source": [
    "#fit models, starting with random initializations\n",
    "print('fitting! each dot is a new EM initialization')\n",
    "\n",
    "num_fit_initializations = 5\n",
    "best_likelihood = float(\"-inf\")\n",
    "\n",
    "for i in range(num_fit_initializations):\n",
    "    # include this line to randomly set initial param values\n",
    "\tfitmodel = random_model_uni.random_model_uni(num_learns, num_gs) \n",
    "\t(fitmodel, log_likelihoods) = EM_fit.EM_fit(fitmodel, data)\n",
    "\tif(log_likelihoods[-1] > best_likelihood):\n",
    "\t\tbest_likelihood = log_likelihoods[-1]\n",
    "\t\tbest_model = fitmodel"
   ]
  },
  {
   "cell_type": "code",
   "execution_count": 92,
   "metadata": {},
   "outputs": [
    {
     "name": "stdout",
     "output_type": "stream",
     "text": [
      "\n",
      "\ttruth\tlearned\n",
      "prior\t0.1500\t0.7663\n",
      "learn1\t0.3000\t0.0837\n",
      "learn2\t0.3000\t0.4847\n",
      "learn3\t0.3000\t0.3180\n",
      "learn4\t0.3000\t0.0015\n",
      "learn5\t0.3000\t1.0000\n",
      "learn6\t0.3000\t1.0000\n",
      "learn7\t0.3000\t1.0000\n",
      "learn8\t0.3000\t1.0000\n",
      "learn9\t0.3000\t0.0000\n",
      "learn10\t0.3000\t0.0000\n",
      "learn11\t0.3000\t0.1781\n",
      "learn12\t0.3000\t1.0000\n",
      "forget1\t0.0000\t0.0000\n",
      "forget2\t0.0000\t0.0000\n",
      "forget3\t0.0000\t0.0000\n",
      "forget4\t0.0000\t0.0000\n",
      "forget5\t0.0000\t0.0000\n",
      "forget6\t0.0000\t0.0000\n",
      "forget7\t0.0000\t0.0000\n",
      "forget8\t0.0000\t0.0000\n",
      "forget9\t0.0000\t0.0000\n",
      "forget10\t0.0000\t0.0000\n",
      "forget11\t0.0000\t0.0000\n",
      "forget12\t0.0000\t0.0000\n",
      "guess1\t0.1000\t0.0022\n",
      "slip1\t0.3000\t0.3916\n"
     ]
    }
   ],
   "source": [
    "# compare the fit model to the true model\n",
    "\n",
    "print('')\n",
    "print('\\ttruth\\tlearned')\n",
    "print('prior\\t%.4f\\t%.4f' % (truemodel['prior'], best_model[\"pi_0\"][1][0]))\n",
    "for r in range(num_learns):\n",
    "    print('learn%d\\t%.4f\\t%.4f' % (r+1, truemodel['As'][r, 1, 0].squeeze(), best_model['As'][r, 1, 0].squeeze()))\n",
    "for r in range(num_learns):\n",
    "    print('forget%d\\t%.4f\\t%.4f' % (r+1, truemodel['As'][r, 0, 1].squeeze(), best_model['As'][r, 0, 1].squeeze()))\n",
    "\n",
    "for s in range(num_gs):\n",
    "    print('guess%d\\t%.4f\\t%.4f' % (s+1, truemodel['guesses'][s], best_model['guesses'][s]))\n",
    "for s in range(num_gs):\n",
    "    print('slip%d\\t%.4f\\t%.4f' % (s+1, truemodel['slips'][s], best_model['slips'][s]))"
   ]
  },
  {
   "cell_type": "markdown",
   "metadata": {},
   "source": [
    "In the learned values for the parameters, we can see that most of the learned values do fall in the range of empirical/true parameter values. We can attribute the large value of Guess to the fact that our questions were in a format (easy, hard, easy, hard) so it might lead to sequences like (0, 1, 0, 1) which is why we believe the guess probability is higher. "
   ]
  },
  {
   "cell_type": "markdown",
   "metadata": {},
   "source": [
    "# Comparing learning parameters for bigrams\n",
    "Here we are comparing the learning on blocked v/s interleaved but only a pair. "
   ]
  },
  {
   "cell_type": "code",
   "execution_count": 114,
   "metadata": {},
   "outputs": [],
   "source": [
    "def compareBigrams(best_model, num_learns, lookup):\n",
    "    p_learn_gram = {}\n",
    "    for r in range(num_learns):\n",
    "        p_learn_gram.update({list(lookup.keys())[r]:best_model['As'][r, 1, 0].squeeze()}) \n",
    "    blocked = ['AA', 'BB', 'CC']\n",
    "    interleaved = ['AB', 'BA', 'BC', 'CA', 'BC', 'CB']\n",
    "    b = 0\n",
    "    i = 0\n",
    "    for k,v in p_learn_gram.items():\n",
    "        if k in blocked:\n",
    "            b+= v\n",
    "        elif k in interleaved:\n",
    "            i+= v\n",
    "    newd = {'Blocked':b/len(blocked), 'Interleaved':i/len(interleaved)}\n",
    "    return p_learn_gram, newd"
   ]
  },
  {
   "cell_type": "code",
   "execution_count": 115,
   "metadata": {},
   "outputs": [],
   "source": [
    "# Average learning P(L) for blocked pairs v/s interleaved pairs\n",
    "a, b = compareBigrams(best_model, num_learns, lookup)"
   ]
  },
  {
   "cell_type": "code",
   "execution_count": 116,
   "metadata": {},
   "outputs": [
    {
     "name": "stdout",
     "output_type": "stream",
     "text": [
      "*** Learning probabilities for unigrams/bigrams ***\n"
     ]
    },
    {
     "data": {
      "text/plain": [
       "{'A': 0.08371840869964726,\n",
       " 'B': 0.4846537753544279,\n",
       " 'C': 0.3179622507709469,\n",
       " 'AA': 0.0014878007038327424,\n",
       " 'BB': 1.0,\n",
       " 'CC': 0.9999999918774921,\n",
       " 'AB': 0.9999996606182281,\n",
       " 'BA': 0.9999999999997424,\n",
       " 'BC': 5.3171745141608657e-11,\n",
       " 'CB': 1.0408399120381678e-05,\n",
       " 'CA': 0.17806228870468765,\n",
       " 'AC': 0.9999999999999999}"
      ]
     },
     "execution_count": 116,
     "metadata": {},
     "output_type": "execute_result"
    }
   ],
   "source": [
    "print(\"*** Learning probabilities for unigrams/bigrams ***\")\n",
    "a"
   ]
  },
  {
   "cell_type": "markdown",
   "metadata": {},
   "source": [
    "### On comparing all the bigrams of BLOCKED v.s INTERLEAVED, we found that Blocked proved to have a higher expected learning as compared to the Interleaved bigrams (as shown below)"
   ]
  },
  {
   "cell_type": "code",
   "execution_count": 117,
   "metadata": {},
   "outputs": [
    {
     "name": "stdout",
     "output_type": "stream",
     "text": [
      "Comparing the average learning P(L) for blocked pairs and interleaved pairs\n"
     ]
    },
    {
     "data": {
      "text/plain": [
       "{'Blocked': 0.6671625975271084, 'Interleaved': 0.3630120596291584}"
      ]
     },
     "execution_count": 117,
     "metadata": {},
     "output_type": "execute_result"
    }
   ],
   "source": [
    "print(\"Comparing the average learning P(L) for blocked pairs and interleaved pairs\")\n",
    "b"
   ]
  },
  {
   "cell_type": "markdown",
   "metadata": {},
   "source": [
    "# Computing the Optimal Sequences\n",
    "Here we use the above learned probabilities to find the best sequence. \n",
    "\n",
    "We frame this problem as an optimization problem where we want to find a sequences that maximizes the total learning probability but following a set of constraints. \n",
    "\n",
    "Objective: max_over_all_sequences(sum(P(L)))\n",
    "Constraint: Sequence must have exactly 2 question of each type ('A', 'B', 'C')"
   ]
  },
  {
   "cell_type": "code",
   "execution_count": 148,
   "metadata": {},
   "outputs": [],
   "source": [
    "class OptimalSequence:\n",
    "    def __init__(self, dictionary):\n",
    "        self.data = dictionary\n",
    "        self.types = ['A', 'B', 'C']\n",
    "        self.sequences = {}\n",
    "    \n",
    "    # Define the constraint\n",
    "    def constraint(self, d):\n",
    "        l = ''\n",
    "        for k in d:\n",
    "            l+=k\n",
    "        for _ in self.types:\n",
    "            if l.count(_) != 2:\n",
    "                return False\n",
    "        return True \n",
    "    \n",
    "    # Compute all the sequences and their learnings that follow the constraint\n",
    "    def findSequences(self):\n",
    "        data_modified = {k:v for k,v in self.data.items() if k not in self.types}\n",
    "        key_list = list(data_modified.keys())\n",
    "        pairs = itertools.permutations(key_list, 3)\n",
    "        for p in pairs:\n",
    "            if self.constraint(p):\n",
    "                res = 0\n",
    "                for pi in p:\n",
    "                    res+= self.data[pi]\n",
    "                self.sequences.update({p:res})\n",
    "        return self.sequences\n",
    "    \n",
    "    # Return the best sequence\n",
    "    def computeOptimal(self):\n",
    "        seq = self.findSequences()\n",
    "        return max(seq, key=seq.get)\n",
    "              \n",
    "    # Return top k sequences\n",
    "    def topKseq(self, num):\n",
    "        seq = self.findSequences()\n",
    "        s = sorted(seq, key=seq.get, reverse=True)\n",
    "        return s[:num]"
   ]
  },
  {
   "cell_type": "code",
   "execution_count": 154,
   "metadata": {},
   "outputs": [],
   "source": [
    "# Instantiate the optimalSequence class\n",
    "optimalSequence = OptimalSequence(a)\n",
    "\n",
    "# List down all the correct sequences\n",
    "sequences = optimalSequence.findSequences()\n",
    "\n",
    "# Return top-k sequences\n",
    "topK = optimalSequence.topKseq(5)\n",
    "\n",
    "# Return the optimal sequence\n",
    "optimal = optimalSequence.computeOptimal()"
   ]
  },
  {
   "cell_type": "code",
   "execution_count": 157,
   "metadata": {},
   "outputs": [
    {
     "data": {
      "text/plain": [
       "('CC', 'AB', 'BA')"
      ]
     },
     "execution_count": 157,
     "metadata": {},
     "output_type": "execute_result"
    }
   ],
   "source": [
    "# This is the optimal sequence\n",
    "optimal"
   ]
  },
  {
   "cell_type": "code",
   "execution_count": 158,
   "metadata": {},
   "outputs": [
    {
     "data": {
      "text/plain": [
       "[('CC', 'AB', 'BA'),\n",
       " ('AB', 'CC', 'BA'),\n",
       " ('CC', 'BA', 'AB'),\n",
       " ('AB', 'BA', 'CC'),\n",
       " ('BA', 'CC', 'AB')]"
      ]
     },
     "execution_count": 158,
     "metadata": {},
     "output_type": "execute_result"
    }
   ],
   "source": [
    "# Here are the top-5 sequences\n",
    "topK"
   ]
  },
  {
   "cell_type": "code",
   "execution_count": null,
   "metadata": {},
   "outputs": [],
   "source": []
  },
  {
   "cell_type": "markdown",
   "metadata": {},
   "source": []
  },
  {
   "cell_type": "code",
   "execution_count": null,
   "metadata": {},
   "outputs": [],
   "source": []
  },
  {
   "cell_type": "code",
   "execution_count": null,
   "metadata": {},
   "outputs": [],
   "source": []
  },
  {
   "cell_type": "code",
   "execution_count": null,
   "metadata": {},
   "outputs": [],
   "source": []
  },
  {
   "cell_type": "code",
   "execution_count": null,
   "metadata": {},
   "outputs": [],
   "source": []
  }
 ],
 "metadata": {
  "kernelspec": {
   "display_name": "Python 3",
   "language": "python",
   "name": "python3"
  },
  "language_info": {
   "codemirror_mode": {
    "name": "ipython",
    "version": 3
   },
   "file_extension": ".py",
   "mimetype": "text/x-python",
   "name": "python",
   "nbconvert_exporter": "python",
   "pygments_lexer": "ipython3",
   "version": "3.7.3"
  }
 },
 "nbformat": 4,
 "nbformat_minor": 2
}
