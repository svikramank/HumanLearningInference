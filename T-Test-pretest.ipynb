{
 "cells": [
  {
   "cell_type": "code",
   "execution_count": 48,
   "metadata": {},
   "outputs": [],
   "source": [
    "import matplotlib.pyplot as plt\n",
    "import seaborn as sns\n",
    "from scipy.stats import f_oneway\n",
    "from scipy.stats import ttest_ind\n"
   ]
  },
  {
   "cell_type": "code",
   "execution_count": 49,
   "metadata": {},
   "outputs": [],
   "source": [
    "sns.set(color_codes=True)\n"
   ]
  },
  {
   "cell_type": "code",
   "execution_count": 53,
   "metadata": {},
   "outputs": [
    {
     "name": "stdout",
     "output_type": "stream",
     "text": [
      "[22, 10, 10, 10, 10, 30, 30, 20, 13.3, 30, 30, 26]\n",
      "[24, 5, 20, 19, 0, 30, 10, 22, 10, 10, 15]\n"
     ]
    },
    {
     "data": {
      "text/plain": [
       "<matplotlib.axes._subplots.AxesSubplot at 0x1a1dc9dd50>"
      ]
     },
     "execution_count": 53,
     "metadata": {},
     "output_type": "execute_result"
    },
    {
     "data": {
      "image/png": "[encoded data removed]",
      "text/plain": [
       "<Figure size 432x288 with 1 Axes>"
      ]
     },
     "metadata": {},
     "output_type": "display_data"
    }
   ],
   "source": [
    "x_blocked_pre = [0,0,10,20,20,0,0,0,10,0,0,0]\n",
    "x_blocked = [22,10,20,30,30,30,30,20,23.3,30,30,26]\n",
    "x_interleaved_pre= [0,5,0,0,20,0,20,0,0,0,0]\n",
    "x_interleaved = [24,10,20,19,20,30,30,22,10,10,15]\n",
    "\n",
    "learning_blocked = []\n",
    "learning_interleaved = []\n",
    "zip_object = zip(x_blocked, x_blocked_pre)\n",
    "for post, pre in zip_object:\n",
    "    learning_blocked.append(post-pre)\n",
    "    \n",
    "zip_object2 = zip(x_interleaved, x_interleaved_pre)\n",
    "for post, pre in zip_object2:\n",
    "    learning_interleaved.append(post-pre)\n",
    "print(learning_blocked)\n",
    "print(learning_interleaved)\n",
    "sns.distplot(learning_blocked)\n",
    "sns.distplot(learning_interleaved)"
   ]
  },
  {
   "cell_type": "markdown",
   "metadata": {},
   "source": [
    "### H0 :  Both means are same. H1: Mean of blocked != Mean of interleaved"
   ]
  },
  {
   "cell_type": "code",
   "execution_count": 54,
   "metadata": {},
   "outputs": [],
   "source": [
    "def comparison_mean(arr_1, arr_2, alpha):\n",
    "    stat, p = ttest_ind(arr_1,arr_2)\n",
    "    print(\"Statistics\", stat)\n",
    "    print (\"p value\", p)\n",
    "    if p > alpha:\n",
    "        print ('Difference is not statistically significant.')\n",
    "    else:\n",
    "        print('Difference is statistically significant.')"
   ]
  },
  {
   "cell_type": "code",
   "execution_count": 55,
   "metadata": {},
   "outputs": [
    {
     "name": "stdout",
     "output_type": "stream",
     "text": [
      "Statistics 1.3679192813182435\n",
      "p value 0.18579823371532372\n",
      "Difference is not statistically significant.\n"
     ]
    }
   ],
   "source": [
    "comparison_mean(learning_blocked, learning_interleaved, 0.05)"
   ]
  },
  {
   "cell_type": "markdown",
   "metadata": {},
   "source": [
    "We cannot reject the null hypothesis since p > alpha. "
   ]
  },
  {
   "cell_type": "code",
   "execution_count": null,
   "metadata": {},
   "outputs": [],
   "source": []
  }
 ],
 "metadata": {
  "kernelspec": {
   "display_name": "Python 3",
   "language": "python",
   "name": "python3"
  },
  "language_info": {
   "codemirror_mode": {
    "name": "ipython",
    "version": 3
   },
   "file_extension": ".py",
   "mimetype": "text/x-python",
   "name": "python",
   "nbconvert_exporter": "python",
   "pygments_lexer": "ipython3",
   "version": "3.7.4"
  }
 },
 "nbformat": 4,
 "nbformat_minor": 2
}
